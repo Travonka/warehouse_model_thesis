{
 "cells": [
  {
   "cell_type": "code",
   "execution_count": 1,
   "metadata": {},
   "outputs": [],
   "source": [
    "import datetime as dt\n",
    "import itertools\n",
    "import inspect\n",
    "import logging\n",
    "import matplotlib.pyplot as plt\n",
    "import operator\n",
    "import os\n",
    "import pandas as pd\n",
    "import pickle\n",
    "import random\n",
    "import sys\n",
    "import time\n",
    "import matplotlib.pyplot as plt\n",
    "import numpy as np\n",
    "import json\n",
    "from random import shuffle\n",
    "from src.product import Product\n",
    "from src.warehouse import Warehouse\n",
    "from src.shelf import Shelf"
   ]
  },
  {
   "cell_type": "markdown",
   "metadata": {},
   "source": [
    "## Data loading and preprocessing"
   ]
  },
  {
   "cell_type": "code",
   "execution_count": null,
   "metadata": {},
   "outputs": [],
   "source": [
    "idc_1 = pd.read_csv('items.csv')\n",
    "df_sales_period = pd.read_csv('orders.csv')\n",
    "df_sales_1 = pd.read_csv('orders1day.csv')"
   ]
  },
  {
   "cell_type": "markdown",
   "metadata": {},
   "source": [
    "## Create warehouse topology\n"
   ]
  },
  {
   "cell_type": "code",
   "execution_count": null,
   "metadata": {},
   "outputs": [],
   "source": [
    "def create_warehouse(asile_lenght = 1, asile_size = 1, asile = 1):\n",
    "    warehouse = Warehouse(20, 42)\n",
    "\n",
    "    for row in range(2,18):\n",
    "        for col in range(1, 41):\n",
    "            if col % 3 == 1 or col % 3 == 2:\n",
    "                warehouse.add_shelf(row, col, 5)\n",
    "    return warehouse"
   ]
  },
  {
   "cell_type": "code",
   "execution_count": null,
   "metadata": {},
   "outputs": [],
   "source": [
    "def get_product_list():\n",
    "    product_list = list() \n",
    "    for index, row in idc_1.iterrows():\n",
    "            curr_stock = 1\n",
    "            curr_volume = row['Volume']\n",
    "            for i in range(row['CurrentStock']):\n",
    "                product = Product(id=row['ItemId'], volume_liters=row['Volume'], idc=curr_stock/row['AdsNum'], coi = (row['Volume']*row['CurrentStock'])/((row['AdsNum'] * row['StockAvailDays'])/28), coi_with_ads = (curr_volume)/(row['AdsNum']), exemplar_id = i)\n",
    "                product_list.append(product)\n",
    "                curr_stock += 1\n",
    "                curr_volume += curr_volume\n",
    "    return product_list"
   ]
  },
  {
   "cell_type": "code",
   "execution_count": null,
   "metadata": {},
   "outputs": [],
   "source": [
    "def get_exemplars_order(products, item_id, already_taken_product, metric):\n",
    "    filtered_products = [product for product in products if product.id == item_id and (product.id, product.exemplar_id) not in already_taken_product]\n",
    "    \n",
    "    if not filtered_products:\n",
    "        return None\n",
    "    if(metric == 'idc'):\n",
    "        lowest_idc_product = filtered_products[0]\n",
    "        for product in filtered_products:\n",
    "            if product.idc < lowest_idc_product.idc:\n",
    "                lowest_idc_product = product\n",
    "        return lowest_idc_product    \n",
    "    if(metric == 'coi'):\n",
    "        lowest_coi_product = filtered_products[0]\n",
    "        for product in filtered_products:\n",
    "            if product.coi < lowest_coi_product.coi:\n",
    "                lowest_coi_product = product\n",
    "        return lowest_coi_product\n",
    "    if(metric == 'random'):\n",
    "        return random.choice(filtered_products)    "
   ]
  },
  {
   "cell_type": "code",
   "execution_count": null,
   "metadata": {},
   "outputs": [],
   "source": [
    "product_list = get_product_list()"
   ]
  },
  {
   "cell_type": "markdown",
   "metadata": {},
   "source": [
    "## Shared"
   ]
  },
  {
   "cell_type": "code",
   "execution_count": null,
   "metadata": {},
   "outputs": [],
   "source": [
    "statistics = {}"
   ]
  },
  {
   "cell_type": "code",
   "execution_count": null,
   "metadata": {},
   "outputs": [],
   "source": [
    "period_statistics = {}"
   ]
  },
  {
   "cell_type": "markdown",
   "metadata": {},
   "source": [
    "## IDC s_shape"
   ]
  },
  {
   "cell_type": "code",
   "execution_count": null,
   "metadata": {},
   "outputs": [],
   "source": [
    "warehouse = create_warehouse()"
   ]
  },
  {
   "cell_type": "code",
   "execution_count": null,
   "metadata": {},
   "outputs": [],
   "source": [
    "product_list = sorted(product_list, key = lambda x: x.idc)\n",
    "\n",
    "\n",
    "for product in product_list:\n",
    "    nearest_empty_cell = warehouse.place_product(product, 's_shape')\n",
    "\n",
    "warehouse.visualize_warehouse('occupancy')"
   ]
  },
  {
   "cell_type": "code",
   "execution_count": null,
   "metadata": {},
   "outputs": [],
   "source": [
    "warehouse.visualize_warehouse('idc')"
   ]
  },
  {
   "cell_type": "code",
   "execution_count": null,
   "metadata": {},
   "outputs": [],
   "source": [
    "unique_orders = df_sales_1['OmsPostingId'].unique()"
   ]
  },
  {
   "cell_type": "code",
   "execution_count": null,
   "metadata": {},
   "outputs": [],
   "source": [
    "print(\"Статистика пробега s-shape пробегов размещения модели для IDC\")\n",
    "stat = []\n",
    "order_stat = []\n",
    "close_to_drop_stat = []\n",
    "already_picked_items = list()\n",
    "for order_id in unique_orders:\n",
    "    order_items = df_sales_1[df_sales_1['OmsPostingId'] == order_id]\n",
    "    exemplars_in_order = list()\n",
    "    locations = list()\n",
    "\n",
    "    print(order_id)\n",
    "    for _, item in order_items.iterrows():\n",
    "        for i in range(item['Quantity']):\n",
    "            exmp = get_exemplars_order(product_list, item['RezonItemId'], already_picked_items, 'idc')\n",
    "            already_picked_items.append((exmp.id, exmp.exemplar_id))\n",
    "            location = warehouse.find_product_location(exmp.id, exmp.exemplar_id)\n",
    "            if(location is None):\n",
    "                continue\n",
    "            locations.append((location, exmp))\n",
    "            close_to_drop_stat.append(abs(0 - location[0]) + abs(0 - location[1]))\n",
    "            exemplars_in_order.append(exmp)\n",
    "    if(len(locations) == 0):\n",
    "        continue\n",
    "    print(already_picked_items)\n",
    "    dist = warehouse.perform_order_pick(\"s_shape\", locations, True)\n",
    "    stat.append(dist)\n",
    "    order_stat.append(len(locations))"
   ]
  },
  {
   "cell_type": "code",
   "execution_count": null,
   "metadata": {},
   "outputs": [],
   "source": [
    "unique_dates = df_sales_period['Date'].unique()\n",
    "\n",
    "print(\"Статистика пробега s-shape пробегов за период 30 дней размещения модели для IDC\")\n",
    "\n",
    "for date in unique_dates:\n",
    "    stat_period = []\n",
    "    order_stat_period = []\n",
    "    close_to_drop_stat_period = []\n",
    "    already_picked_items_period = list()\n",
    "    orders_for_date = df_sales_period[df_sales_period['Date'] == date]\n",
    "    unique_orders_for_date = orders_for_date['OmsPostingId'].unique()\n",
    "    for order_id in unique_orders_for_date:\n",
    "        order_items = orders_for_date[orders_for_date['OmsPostingId'] == order_id]\n",
    "        exemplars_in_order = list()\n",
    "        locations = list()\n",
    "\n",
    "        print(order_id)\n",
    "        for _, item in order_items.iterrows():\n",
    "            for i in range(item['Quantity']):\n",
    "                exmp = get_exemplars_order(product_list, item['RezonItemId'], already_picked_items, 'idc')\n",
    "                if(exmp is None):\n",
    "                    continue\n",
    "                already_picked_items_period.append((exmp.id, exmp.exemplar_id))\n",
    "                location = warehouse.find_product_location(exmp.id, exmp.exemplar_id)\n",
    "                if(location is None):\n",
    "                    continue\n",
    "                locations.append((location, exmp))\n",
    "                close_to_drop_stat_period.append(abs(0 - location[0]) + abs(0 - location[1]))\n",
    "                exemplars_in_order.append(exmp)\n",
    "        if(len(locations) == 0):\n",
    "            continue\n",
    "        print(already_picked_items)\n",
    "        dist = warehouse.perform_order_pick(\"s_shape\", locations, True)\n",
    "        stat_period.append(dist)\n",
    "        order_stat_period.append(len(locations))\n",
    "    period_statistics[(date, 'IDC s_shape')] = {'mean' : np.mean(stat_period), \n",
    "                                                'median': np.median(sorted(stat_period)), \n",
    "                                                'sum': sum(stat_period), \n",
    "                                                'avg num of items': np.mean(order_stat_period), \n",
    "                                                'order_dist' : stat_period, \n",
    "                                                'mean dist to drop': np.mean(close_to_drop_stat_period), \n",
    "                                                'median dist to drop': np.median(close_to_drop_stat_period), \n",
    "                                                'dist to dtop': close_to_drop_stat_period}"
   ]
  },
  {
   "cell_type": "code",
   "execution_count": null,
   "metadata": {},
   "outputs": [],
   "source": [
    "order_items"
   ]
  },
  {
   "cell_type": "code",
   "execution_count": null,
   "metadata": {},
   "outputs": [],
   "source": [
    "np.mean(stat)"
   ]
  },
  {
   "cell_type": "code",
   "execution_count": null,
   "metadata": {},
   "outputs": [],
   "source": [
    "np.median(sorted(stat))"
   ]
  },
  {
   "cell_type": "code",
   "execution_count": null,
   "metadata": {},
   "outputs": [],
   "source": [
    "sum(stat)"
   ]
  },
  {
   "cell_type": "code",
   "execution_count": null,
   "metadata": {},
   "outputs": [],
   "source": [
    "statistics['IDC s-shape'] = {'mean' : np.mean(stat), 'median': np.median(sorted(stat)), 'sum': sum(stat), 'avg num of items': np.mean(order_stat), 'order_dist' : stat, 'mean dist to drop': np.mean(close_to_drop_stat), 'median dist to drop': np.median(close_to_drop_stat), 'dist to dtop': close_to_drop_stat}"
   ]
  },
  {
   "cell_type": "code",
   "execution_count": null,
   "metadata": {},
   "outputs": [],
   "source": [
    "warehouse.visualize_warehouse('idc')"
   ]
  },
  {
   "cell_type": "code",
   "execution_count": null,
   "metadata": {},
   "outputs": [],
   "source": [
    "warehouse.visualize_warehouse('occupancy')"
   ]
  },
  {
   "cell_type": "markdown",
   "metadata": {},
   "source": [
    "## IDC return"
   ]
  },
  {
   "cell_type": "code",
   "execution_count": null,
   "metadata": {},
   "outputs": [],
   "source": [
    "warehouse = create_warehouse()"
   ]
  },
  {
   "cell_type": "code",
   "execution_count": null,
   "metadata": {},
   "outputs": [],
   "source": [
    "product_list = sorted(product_list, key = lambda x: x.idc)\n",
    "\n",
    "\n",
    "for product in product_list:\n",
    "    nearest_empty_cell = warehouse.place_product(product, 'return')\n",
    "\n",
    "warehouse.visualize_warehouse('occupancy')"
   ]
  },
  {
   "cell_type": "code",
   "execution_count": null,
   "metadata": {},
   "outputs": [],
   "source": [
    "warehouse.visualize_warehouse('idc')"
   ]
  },
  {
   "cell_type": "code",
   "execution_count": null,
   "metadata": {},
   "outputs": [],
   "source": [
    "print(\"Статистика пробега s-shape пробегов размещения модели для IDC\")\n",
    "stat = []\n",
    "order_stat = []\n",
    "close_to_drop_stat = []\n",
    "already_picked_items = list()\n",
    "for order_id in unique_orders:\n",
    "    order_items = df_sales_1[df_sales_1['OmsPostingId'] == order_id]\n",
    "    exemplars_in_order = list()\n",
    "    locations = list()\n",
    "\n",
    "    print(order_id)\n",
    "    for _, item in order_items.iterrows():\n",
    "        for i in range(item['Quantity']):\n",
    "            exmp = get_exemplars_order(product_list, item['RezonItemId'], already_picked_items, 'idc')\n",
    "            already_picked_items.append((exmp.id, exmp.exemplar_id))\n",
    "            location = warehouse.find_product_location(exmp.id, exmp.exemplar_id)\n",
    "            if(location is None):\n",
    "                continue\n",
    "            locations.append((location, exmp))\n",
    "            close_to_drop_stat.append(abs(0 - location[0]) + abs(0 - location[1]))\n",
    "            exemplars_in_order.append(exmp)\n",
    "    if(len(locations) == 0):\n",
    "        continue\n",
    "    print(already_picked_items)\n",
    "    dist = warehouse.perform_order_pick(\"return\", locations, True)\n",
    "    stat.append(dist)\n",
    "    order_stat.append(len(locations))"
   ]
  },
  {
   "cell_type": "code",
   "execution_count": null,
   "metadata": {},
   "outputs": [],
   "source": [
    "unique_dates = df_sales_period['Date'].unique()\n",
    "\n",
    "print(\"Статистика пробега return пробегов за период 30 дней размещения модели для IDC\")\n",
    "\n",
    "for date in unique_dates:\n",
    "    stat_period = []\n",
    "    order_stat_period = []\n",
    "    close_to_drop_stat_period = []\n",
    "    already_picked_items_period = list()\n",
    "    orders_for_date = df_sales_period[df_sales_period['Date'] == date]\n",
    "    unique_orders_for_date = orders_for_date['OmsPostingId'].unique()\n",
    "    for order_id in unique_orders_for_date:\n",
    "        order_items = orders_for_date[orders_for_date['OmsPostingId'] == order_id]\n",
    "        exemplars_in_order = list()\n",
    "        locations = list()\n",
    "\n",
    "        print(order_id)\n",
    "        for _, item in order_items.iterrows():\n",
    "            for i in range(item['Quantity']):\n",
    "                exmp = get_exemplars_order(product_list, item['RezonItemId'], already_picked_items, 'idc')\n",
    "                if(exmp is None):\n",
    "                    continue\n",
    "                already_picked_items_period.append((exmp.id, exmp.exemplar_id))\n",
    "                location = warehouse.find_product_location(exmp.id, exmp.exemplar_id)\n",
    "                if(location is None):\n",
    "                    continue\n",
    "                locations.append((location, exmp))\n",
    "                close_to_drop_stat_period.append(abs(0 - location[0]) + abs(0 - location[1]))\n",
    "                exemplars_in_order.append(exmp)\n",
    "        if(len(locations) == 0):\n",
    "            continue\n",
    "        print(already_picked_items)\n",
    "        dist = warehouse.perform_order_pick(\"return\", locations, True)\n",
    "        stat_period.append(dist)\n",
    "        order_stat_period.append(len(locations))\n",
    "    period_statistics[(date, 'IDC return')] = {'mean' : np.mean(stat_period), \n",
    "                                                'median': np.median(sorted(stat_period)), \n",
    "                                                'sum': sum(stat_period), \n",
    "                                                'avg num of items': np.mean(order_stat_period), \n",
    "                                                'order_dist' : stat_period, \n",
    "                                                'mean dist to drop': np.mean(close_to_drop_stat_period), \n",
    "                                                'median dist to drop': np.median(close_to_drop_stat_period), \n",
    "                                                'dist to dtop': close_to_drop_stat_period}"
   ]
  },
  {
   "cell_type": "code",
   "execution_count": null,
   "metadata": {},
   "outputs": [],
   "source": [
    "np.mean(stat)"
   ]
  },
  {
   "cell_type": "code",
   "execution_count": null,
   "metadata": {},
   "outputs": [],
   "source": [
    "np.median(sorted(stat))"
   ]
  },
  {
   "cell_type": "code",
   "execution_count": null,
   "metadata": {},
   "outputs": [],
   "source": [
    "sum(stat)"
   ]
  },
  {
   "cell_type": "code",
   "execution_count": null,
   "metadata": {},
   "outputs": [],
   "source": [
    "statistics['IDC return'] = {'mean' : np.mean(stat), 'median': np.median(sorted(stat)), 'sum': sum(stat) , 'avg num of items': np.mean(order_stat), 'order_dist' : stat, 'mean dist to drop': np.mean(close_to_drop_stat), 'median dist to drop': np.median(close_to_drop_stat), 'dist to dtop': close_to_drop_stat}"
   ]
  },
  {
   "cell_type": "code",
   "execution_count": null,
   "metadata": {},
   "outputs": [],
   "source": [
    "warehouse.visualize_warehouse('idc')"
   ]
  },
  {
   "cell_type": "code",
   "execution_count": null,
   "metadata": {},
   "outputs": [],
   "source": [
    "warehouse.visualize_warehouse('occupancy')"
   ]
  },
  {
   "cell_type": "markdown",
   "metadata": {},
   "source": [
    "## COI s_shape"
   ]
  },
  {
   "cell_type": "code",
   "execution_count": null,
   "metadata": {},
   "outputs": [],
   "source": [
    "warehouse = create_warehouse()\n",
    "\n",
    "product_list = sorted(product_list, key = lambda x: x.coi)\n",
    "\n",
    "for product in product_list:\n",
    "    nearest_empty_cell = warehouse.place_product(product, 's_shape')\n",
    "\n",
    "warehouse.visualize_warehouse('occupancy')"
   ]
  },
  {
   "cell_type": "code",
   "execution_count": null,
   "metadata": {},
   "outputs": [],
   "source": [
    "warehouse.visualize_warehouse('coi')"
   ]
  },
  {
   "cell_type": "code",
   "execution_count": null,
   "metadata": {},
   "outputs": [],
   "source": [
    "warehouse.visualize_warehouse('idc')"
   ]
  },
  {
   "cell_type": "code",
   "execution_count": null,
   "metadata": {},
   "outputs": [],
   "source": [
    "df_sales_1"
   ]
  },
  {
   "cell_type": "code",
   "execution_count": null,
   "metadata": {},
   "outputs": [],
   "source": [
    "print(\"Статистика пробега s-shape пробегов размещения модели для COI\")\n",
    "stat = []\n",
    "order_stat = []\n",
    "close_to_drop_stat = []\n",
    "already_picked_items = list()\n",
    "for order_id in unique_orders:\n",
    "    order_items = df_sales_1[df_sales_1['OmsPostingId'] == order_id]\n",
    "    exemplars_in_order = list()\n",
    "    locations = list()\n",
    "\n",
    "    print(order_id)\n",
    "    for _, item in order_items.iterrows():\n",
    "        for i in range(item['Quantity']):\n",
    "            exmp = get_exemplars_order(product_list, item['RezonItemId'], already_picked_items, 'coi')\n",
    "            already_picked_items.append((exmp.id, exmp.exemplar_id))\n",
    "            location = warehouse.find_product_location(exmp.id, exmp.exemplar_id)\n",
    "            if(location is None):\n",
    "                continue\n",
    "            locations.append((location, exmp))\n",
    "            close_to_drop_stat.append(abs(0 - location[0]) + abs(0 - location[1]))\n",
    "            exemplars_in_order.append(exmp)\n",
    "    if(len(locations) == 0):\n",
    "        continue\n",
    "    print(already_picked_items)\n",
    "    dist = warehouse.perform_order_pick(\"s_shape\", locations, True)\n",
    "    stat.append(dist)\n",
    "    order_stat.append(len(locations))"
   ]
  },
  {
   "cell_type": "code",
   "execution_count": null,
   "metadata": {},
   "outputs": [],
   "source": [
    "unique_dates = df_sales_period['Date'].unique()\n",
    "\n",
    "print(\"Статистика пробега return пробегов за период 30 дней размещения модели для COI\")\n",
    "\n",
    "for date in unique_dates:\n",
    "    stat_period = []\n",
    "    order_stat_period = []\n",
    "    close_to_drop_stat_period = []\n",
    "    already_picked_items_period = list()\n",
    "    orders_for_date = df_sales_period[df_sales_period['Date'] == date]\n",
    "    unique_orders_for_date = orders_for_date['OmsPostingId'].unique()\n",
    "    for order_id in unique_orders_for_date:\n",
    "        order_items = orders_for_date[orders_for_date['OmsPostingId'] == order_id]\n",
    "        exemplars_in_order = list()\n",
    "        locations = list()\n",
    "\n",
    "        print(order_id)\n",
    "        for _, item in order_items.iterrows():\n",
    "            for i in range(item['Quantity']):\n",
    "                exmp = get_exemplars_order(product_list, item['RezonItemId'], already_picked_items, 'idc')\n",
    "                if(exmp is None):\n",
    "                    continue\n",
    "                already_picked_items_period.append((exmp.id, exmp.exemplar_id))\n",
    "                location = warehouse.find_product_location(exmp.id, exmp.exemplar_id)\n",
    "                if(location is None):\n",
    "                    continue\n",
    "                locations.append((location, exmp))\n",
    "                close_to_drop_stat_period.append(abs(0 - location[0]) + abs(0 - location[1]))\n",
    "                exemplars_in_order.append(exmp)\n",
    "        if(len(locations) == 0):\n",
    "            continue\n",
    "        print(already_picked_items)\n",
    "        dist = warehouse.perform_order_pick(\"s_shape\", locations, True)\n",
    "        stat_period.append(dist)\n",
    "        order_stat_period.append(len(locations))\n",
    "    period_statistics[(date, 'COI s_shape')] = {'mean' : np.mean(stat_period), \n",
    "                                                'median': np.median(sorted(stat_period)), \n",
    "                                                'sum': sum(stat_period), \n",
    "                                                'avg num of items': np.mean(order_stat_period), \n",
    "                                                'order_dist' : stat_period, \n",
    "                                                'mean dist to drop': np.mean(close_to_drop_stat_period), \n",
    "                                                'median dist to drop': np.median(close_to_drop_stat_period), \n",
    "                                                'dist to dtop': close_to_drop_stat_period}"
   ]
  },
  {
   "cell_type": "code",
   "execution_count": null,
   "metadata": {},
   "outputs": [],
   "source": [
    "np.mean(stat)"
   ]
  },
  {
   "cell_type": "code",
   "execution_count": null,
   "metadata": {},
   "outputs": [],
   "source": [
    "np.median(sorted(stat))"
   ]
  },
  {
   "cell_type": "code",
   "execution_count": null,
   "metadata": {},
   "outputs": [],
   "source": [
    "sum(stat)"
   ]
  },
  {
   "cell_type": "code",
   "execution_count": null,
   "metadata": {},
   "outputs": [],
   "source": [
    "statistics['COI s-shape'] = {'mean' : np.mean(stat), 'median': np.median(sorted(stat)), 'sum': sum(stat), 'avg num of items': np.mean(order_stat), 'order_dist' : stat, 'mean dist to drop': np.mean(close_to_drop_stat), 'median dist to drop': np.median(close_to_drop_stat), 'dist to dtop': close_to_drop_stat}"
   ]
  },
  {
   "cell_type": "code",
   "execution_count": null,
   "metadata": {},
   "outputs": [],
   "source": [
    "warehouse = create_warehouse()\n",
    "\n",
    "product_list = sorted(product_list, key = lambda x: x.coi)\n",
    "\n",
    "for product in product_list:\n",
    "    nearest_empty_cell = warehouse.place_product(product, 's_shape')\n",
    "\n",
    "warehouse.visualize_warehouse('occupancy')"
   ]
  },
  {
   "cell_type": "markdown",
   "metadata": {},
   "source": [
    "## COI return shape"
   ]
  },
  {
   "cell_type": "code",
   "execution_count": null,
   "metadata": {},
   "outputs": [],
   "source": [
    "warehouse = create_warehouse()\n",
    "\n",
    "product_list = sorted(product_list, key = lambda x: x.coi)\n",
    "\n",
    "for product in product_list:\n",
    "    nearest_empty_cell = warehouse.place_product(product, 'return')\n",
    "\n",
    "warehouse.visualize_warehouse('occupancy')"
   ]
  },
  {
   "cell_type": "code",
   "execution_count": null,
   "metadata": {},
   "outputs": [],
   "source": [
    "warehouse.visualize_warehouse('coi')"
   ]
  },
  {
   "cell_type": "code",
   "execution_count": null,
   "metadata": {},
   "outputs": [],
   "source": [
    "warehouse.visualize_warehouse('coi')"
   ]
  },
  {
   "cell_type": "code",
   "execution_count": null,
   "metadata": {},
   "outputs": [],
   "source": [
    "warehouse.visualize_warehouse('idc')"
   ]
  },
  {
   "cell_type": "code",
   "execution_count": null,
   "metadata": {},
   "outputs": [],
   "source": [
    "print(\"Статистика пробега return пробегов размещения модели для COI\")\n",
    "stat = []\n",
    "order_stat = []\n",
    "close_to_drop_stat = []\n",
    "already_picked_items = list()\n",
    "for order_id in unique_orders:\n",
    "    order_items = df_sales_1[df_sales_1['OmsPostingId'] == order_id]\n",
    "    exemplars_in_order = list()\n",
    "    locations = list()\n",
    "\n",
    "    print(order_id)\n",
    "    for _, item in order_items.iterrows():\n",
    "        for i in range(item['Quantity']):\n",
    "            exmp = get_exemplars_order(product_list, item['RezonItemId'], already_picked_items, 'coi')\n",
    "            if(exmp is None):\n",
    "                continue\n",
    "            already_picked_items.append((exmp.id, exmp.exemplar_id))\n",
    "            location = warehouse.find_product_location(exmp.id, exmp.exemplar_id)\n",
    "            if(location is None):\n",
    "                continue\n",
    "            locations.append((location, exmp))\n",
    "            close_to_drop_stat.append(abs(0 - location[0]) + abs(0 - location[1]))\n",
    "            exemplars_in_order.append(exmp)\n",
    "    if(len(locations) == 0):\n",
    "        continue\n",
    "    print(already_picked_items)\n",
    "    dist = warehouse.perform_order_pick(\"return\", locations, True)\n",
    "    stat.append(dist)\n",
    "    order_stat.append(len(locations))"
   ]
  },
  {
   "cell_type": "code",
   "execution_count": null,
   "metadata": {},
   "outputs": [],
   "source": [
    "unique_dates = df_sales_period['Date'].unique()\n",
    "\n",
    "print(\"Статистика пробега return пробегов за период 30 дней размещения модели для COI\")\n",
    "\n",
    "for date in unique_dates:\n",
    "    stat_period = []\n",
    "    order_stat_period = []\n",
    "    close_to_drop_stat_period = []\n",
    "    already_picked_items_period = list()\n",
    "    orders_for_date = df_sales_period[df_sales_period['Date'] == date]\n",
    "    unique_orders_for_date = orders_for_date['OmsPostingId'].unique()\n",
    "    for order_id in unique_orders_for_date:\n",
    "        order_items = orders_for_date[orders_for_date['OmsPostingId'] == order_id]\n",
    "        exemplars_in_order = list()\n",
    "        locations = list()\n",
    "\n",
    "        print(order_id)\n",
    "        for _, item in order_items.iterrows():\n",
    "            for i in range(item['Quantity']):\n",
    "                exmp = get_exemplars_order(product_list, item['RezonItemId'], already_picked_items, 'idc')\n",
    "                if(exmp is None):\n",
    "                    continue\n",
    "                already_picked_items_period.append((exmp.id, exmp.exemplar_id))\n",
    "                location = warehouse.find_product_location(exmp.id, exmp.exemplar_id)\n",
    "                if(location is None):\n",
    "                    continue\n",
    "                locations.append((location, exmp))\n",
    "                close_to_drop_stat_period.append(abs(0 - location[0]) + abs(0 - location[1]))\n",
    "                exemplars_in_order.append(exmp)\n",
    "        if(len(locations) == 0):\n",
    "            continue\n",
    "        print(already_picked_items)\n",
    "        dist = warehouse.perform_order_pick(\"return\", locations, True)\n",
    "        stat_period.append(dist)\n",
    "        order_stat_period.append(len(locations))\n",
    "    period_statistics[(date,'COI return')] = {'mean' : np.mean(stat_period), \n",
    "                                                'median': np.median(sorted(stat_period)), \n",
    "                                                'sum': sum(stat_period), \n",
    "                                                'avg num of items': np.mean(order_stat_period), \n",
    "                                                'order_dist' : stat_period, \n",
    "                                                'mean dist to drop': np.mean(close_to_drop_stat_period), \n",
    "                                                'median dist to drop': np.median(close_to_drop_stat_period), \n",
    "                                                'dist to dtop': close_to_drop_stat_period}"
   ]
  },
  {
   "cell_type": "code",
   "execution_count": null,
   "metadata": {},
   "outputs": [],
   "source": [
    "np.mean(stat)"
   ]
  },
  {
   "cell_type": "code",
   "execution_count": null,
   "metadata": {},
   "outputs": [],
   "source": [
    "np.median(sorted(stat))"
   ]
  },
  {
   "cell_type": "code",
   "execution_count": null,
   "metadata": {},
   "outputs": [],
   "source": [
    "sum(stat)"
   ]
  },
  {
   "cell_type": "code",
   "execution_count": null,
   "metadata": {},
   "outputs": [],
   "source": [
    "statistics['COI return'] = {'mean' : np.mean(stat), 'median': np.median(sorted(stat)), 'sum': sum(stat), 'avg num of items': np.mean(order_stat), 'order_dist' : stat, 'mean dist to drop': np.mean(close_to_drop_stat), 'median dist to drop': np.median(close_to_drop_stat), 'dist to dtop': close_to_drop_stat}"
   ]
  },
  {
   "cell_type": "markdown",
   "metadata": {},
   "source": [
    "## IDC by exp"
   ]
  },
  {
   "cell_type": "code",
   "execution_count": null,
   "metadata": {},
   "outputs": [],
   "source": [
    "warehouse = create_warehouse()\n",
    "\n",
    "product_list = sorted(product_list, key = lambda x: x.coi_with_ads)\n",
    "\n",
    "for product in product_list:\n",
    "    nearest_empty_cell = warehouse.place_product(product, 's_shape')\n",
    "\n",
    "warehouse.visualize_warehouse('occupancy')"
   ]
  },
  {
   "cell_type": "code",
   "execution_count": null,
   "metadata": {},
   "outputs": [],
   "source": [
    "warehouse.visualize_warehouse('coi')"
   ]
  },
  {
   "cell_type": "code",
   "execution_count": null,
   "metadata": {},
   "outputs": [],
   "source": [
    "warehouse.visualize_warehouse('coi')"
   ]
  },
  {
   "cell_type": "code",
   "execution_count": null,
   "metadata": {},
   "outputs": [],
   "source": [
    "warehouse.visualize_warehouse('idc')"
   ]
  },
  {
   "cell_type": "code",
   "execution_count": null,
   "metadata": {},
   "outputs": [],
   "source": [
    "print(\"Статистика пробега return пробегов размещения модели для IDC by exp\")\n",
    "stat = []\n",
    "order_stat = []\n",
    "close_to_drop_stat = []\n",
    "already_picked_items = list()\n",
    "for order_id in unique_orders:\n",
    "    order_items = df_sales_1[df_sales_1['OmsPostingId'] == order_id]\n",
    "    exemplars_in_order = list()\n",
    "    locations = list()\n",
    "\n",
    "    print(order_id)\n",
    "    for _, item in order_items.iterrows():\n",
    "        for i in range(item['Quantity']):\n",
    "            exmp = get_exemplars_order(product_list, item['RezonItemId'], already_picked_items, 'coi')\n",
    "            already_picked_items.append((exmp.id, exmp.exemplar_id))\n",
    "            location = warehouse.find_product_location(exmp.id, exmp.exemplar_id)\n",
    "            if(location is None):\n",
    "                continue\n",
    "            locations.append((location, exmp))\n",
    "            close_to_drop_stat.append(abs(0 - location[0]) + abs(0 - location[1]))\n",
    "            exemplars_in_order.append(exmp)\n",
    "    if(len(locations) == 0):\n",
    "        continue\n",
    "    print(already_picked_items)\n",
    "    dist = warehouse.perform_order_pick(\"s_shape\", locations, True)\n",
    "    stat.append(dist)\n",
    "    order_stat.append(len(locations))"
   ]
  },
  {
   "cell_type": "code",
   "execution_count": null,
   "metadata": {},
   "outputs": [],
   "source": [
    "unique_dates = df_sales_period['Date'].unique()\n",
    "\n",
    "print(\"Статистика пробега return пробегов за период 30 дней размещения модели для IDC by exp\")\n",
    "\n",
    "for date in unique_dates:\n",
    "    stat_period = []\n",
    "    order_stat_period = []\n",
    "    close_to_drop_stat_period = []\n",
    "    already_picked_items_period = list()\n",
    "    orders_for_date = df_sales_period[df_sales_period['Date'] == date]\n",
    "    unique_orders_for_date = orders_for_date['OmsPostingId'].unique()\n",
    "    for order_id in unique_orders_for_date:\n",
    "        order_items = orders_for_date[orders_for_date['OmsPostingId'] == order_id]\n",
    "        exemplars_in_order = list()\n",
    "        locations = list()\n",
    "\n",
    "        print(order_id)\n",
    "        for _, item in order_items.iterrows():\n",
    "            for i in range(item['Quantity']):\n",
    "                exmp = get_exemplars_order(product_list, item['RezonItemId'], already_picked_items, 'idc')\n",
    "                if(exmp is None):\n",
    "                    continue\n",
    "                already_picked_items_period.append((exmp.id, exmp.exemplar_id))\n",
    "                location = warehouse.find_product_location(exmp.id, exmp.exemplar_id)\n",
    "                if(location is None):\n",
    "                    continue\n",
    "                locations.append((location, exmp))\n",
    "                close_to_drop_stat_period.append(abs(0 - location[0]) + abs(0 - location[1]))\n",
    "                exemplars_in_order.append(exmp)\n",
    "        if(len(locations) == 0):\n",
    "            continue\n",
    "        print(already_picked_items)\n",
    "        dist = warehouse.perform_order_pick(\"s_shape\", locations, True)\n",
    "        stat_period.append(dist)\n",
    "        order_stat_period.append(len(locations))\n",
    "    period_statistics[(date,'COI with ads s_shape')] = {'mean' : np.mean(stat_period), \n",
    "                                                'median': np.median(sorted(stat_period)), \n",
    "                                                'sum': sum(stat_period), \n",
    "                                                'avg num of items': np.mean(order_stat_period), \n",
    "                                                'order_dist' : stat_period, \n",
    "                                                'mean dist to drop': np.mean(close_to_drop_stat_period), \n",
    "                                                'median dist to drop': np.median(close_to_drop_stat_period), \n",
    "                                                'dist to dtop': close_to_drop_stat_period}"
   ]
  },
  {
   "cell_type": "code",
   "execution_count": null,
   "metadata": {},
   "outputs": [],
   "source": [
    "np.mean(stat)"
   ]
  },
  {
   "cell_type": "code",
   "execution_count": null,
   "metadata": {},
   "outputs": [],
   "source": [
    "np.median(sorted(stat))"
   ]
  },
  {
   "cell_type": "code",
   "execution_count": null,
   "metadata": {},
   "outputs": [],
   "source": [
    "sum(stat)"
   ]
  },
  {
   "cell_type": "code",
   "execution_count": null,
   "metadata": {},
   "outputs": [],
   "source": [
    "statistics['IDC by exp s-shape'] = {'mean' : np.mean(stat), 'median': np.median(sorted(stat)), 'sum': sum(stat) , 'avg num of items': np.mean(order_stat), 'order_dist' : stat, 'mean dist to drop': np.mean(close_to_drop_stat), 'median dist to drop': np.median(close_to_drop_stat), 'dist to dtop': close_to_drop_stat}"
   ]
  },
  {
   "cell_type": "markdown",
   "metadata": {},
   "source": [
    "## IDC by exp"
   ]
  },
  {
   "cell_type": "code",
   "execution_count": null,
   "metadata": {},
   "outputs": [],
   "source": [
    "warehouse = create_warehouse()\n",
    "\n",
    "product_list = sorted(product_list, key = lambda x: x.coi_with_ads)\n",
    "\n",
    "for product in product_list:\n",
    "    nearest_empty_cell = warehouse.place_product(product, 'return')\n",
    "\n",
    "warehouse.visualize_warehouse('occupancy')"
   ]
  },
  {
   "cell_type": "code",
   "execution_count": null,
   "metadata": {},
   "outputs": [],
   "source": [
    "warehouse.visualize_warehouse('coi')"
   ]
  },
  {
   "cell_type": "code",
   "execution_count": null,
   "metadata": {},
   "outputs": [],
   "source": [
    "warehouse.visualize_warehouse('coi')"
   ]
  },
  {
   "cell_type": "code",
   "execution_count": null,
   "metadata": {},
   "outputs": [],
   "source": [
    "warehouse.visualize_warehouse('idc')"
   ]
  },
  {
   "cell_type": "code",
   "execution_count": null,
   "metadata": {},
   "outputs": [],
   "source": [
    "print(\"Статистика пробега return пробегов размещения модели для IDC by exp\")\n",
    "stat = []\n",
    "order_stat = []\n",
    "close_to_drop_stat = []\n",
    "already_picked_items = list()\n",
    "for order_id in unique_orders:\n",
    "    order_items = df_sales_1[df_sales_1['OmsPostingId'] == order_id]\n",
    "    exemplars_in_order = list()\n",
    "    locations = list()\n",
    "\n",
    "    print(order_id)\n",
    "    for _, item in order_items.iterrows():\n",
    "        for i in range(item['Quantity']):\n",
    "            exmp = get_exemplars_order(product_list, item['RezonItemId'], already_picked_items, 'coi')\n",
    "            already_picked_items.append((exmp.id, exmp.exemplar_id))\n",
    "            location = warehouse.find_product_location(exmp.id, exmp.exemplar_id)\n",
    "            if(location is None):\n",
    "                continue\n",
    "            locations.append((location, exmp))\n",
    "            close_to_drop_stat.append(abs(0 - location[0]) + abs(0 - location[1]))\n",
    "            exemplars_in_order.append(exmp)\n",
    "    if(len(locations) == 0):\n",
    "        continue\n",
    "    print(already_picked_items)\n",
    "    dist = warehouse.perform_order_pick(\"return\", locations, True)\n",
    "    stat.append(dist)\n",
    "    order_stat.append(len(locations))"
   ]
  },
  {
   "cell_type": "code",
   "execution_count": null,
   "metadata": {},
   "outputs": [],
   "source": [
    "unique_dates = df_sales_period['Date'].unique()\n",
    "\n",
    "print(\"Статистика пробега return пробегов за период 30 дней размещения модели для IDC by exp\")\n",
    "\n",
    "for date in unique_dates:\n",
    "    stat_period = []\n",
    "    order_stat_period = []\n",
    "    close_to_drop_stat_period = []\n",
    "    already_picked_items_period = list()\n",
    "    orders_for_date = df_sales_period[df_sales_period['Date'] == date]\n",
    "    unique_orders_for_date = orders_for_date['OmsPostingId'].unique()\n",
    "    for order_id in unique_orders_for_date:\n",
    "        order_items = orders_for_date[orders_for_date['OmsPostingId'] == order_id]\n",
    "        exemplars_in_order = list()\n",
    "        locations = list()\n",
    "\n",
    "        print(order_id)\n",
    "        for _, item in order_items.iterrows():\n",
    "            for i in range(item['Quantity']):\n",
    "                exmp = get_exemplars_order(product_list, item['RezonItemId'], already_picked_items, 'idc')\n",
    "                if(exmp is None):\n",
    "                    continue\n",
    "                already_picked_items_period.append((exmp.id, exmp.exemplar_id))\n",
    "                location = warehouse.find_product_location(exmp.id, exmp.exemplar_id)\n",
    "                if(location is None):\n",
    "                    continue\n",
    "                locations.append((location, exmp))\n",
    "                close_to_drop_stat_period.append(abs(0 - location[0]) + abs(0 - location[1]))\n",
    "                exemplars_in_order.append(exmp)\n",
    "        if(len(locations) == 0):\n",
    "            continue\n",
    "        print(already_picked_items)\n",
    "        dist = warehouse.perform_order_pick(\"return\", locations, True)\n",
    "        stat_period.append(dist)\n",
    "        order_stat_period.append(len(locations))\n",
    "    period_statistics[(date,'COI with ads return')] = {'mean' : np.mean(stat_period), \n",
    "                                                'median': np.median(sorted(stat_period)), \n",
    "                                                'sum': sum(stat_period), \n",
    "                                                'avg num of items': np.mean(order_stat_period), \n",
    "                                                'order_dist' : stat_period, \n",
    "                                                'mean dist to drop': np.mean(close_to_drop_stat_period), \n",
    "                                                'median dist to drop': np.median(close_to_drop_stat_period), \n",
    "                                                'dist to dtop': close_to_drop_stat_period}"
   ]
  },
  {
   "cell_type": "code",
   "execution_count": null,
   "metadata": {},
   "outputs": [],
   "source": [
    "np.mean(stat)"
   ]
  },
  {
   "cell_type": "code",
   "execution_count": null,
   "metadata": {},
   "outputs": [],
   "source": [
    "np.median(sorted(stat))"
   ]
  },
  {
   "cell_type": "code",
   "execution_count": null,
   "metadata": {},
   "outputs": [],
   "source": [
    "sum(stat)"
   ]
  },
  {
   "cell_type": "code",
   "execution_count": null,
   "metadata": {},
   "outputs": [],
   "source": [
    "statistics['IDC by exp return'] = {'mean' : np.mean(stat), 'median': np.median(sorted(stat)), 'sum': sum(stat), 'avg num of items': np.mean(order_stat), 'order_dist' : stat, 'mean dist to drop': np.mean(close_to_drop_stat), 'median dist to drop': np.median(close_to_drop_stat), 'dist to dtop': close_to_drop_stat}"
   ]
  },
  {
   "cell_type": "markdown",
   "metadata": {},
   "source": [
    "## Random return"
   ]
  },
  {
   "cell_type": "code",
   "execution_count": null,
   "metadata": {},
   "outputs": [],
   "source": [
    "warehouse = create_warehouse()\n",
    "\n",
    "shuffle(product_list)\n",
    "\n",
    "for product in product_list:\n",
    "    nearest_empty_cell = warehouse.place_product(product, 'return')\n",
    "\n",
    "warehouse.visualize_warehouse('occupancy')"
   ]
  },
  {
   "cell_type": "code",
   "execution_count": null,
   "metadata": {},
   "outputs": [],
   "source": [
    "warehouse.visualize_warehouse('coi')"
   ]
  },
  {
   "cell_type": "code",
   "execution_count": null,
   "metadata": {},
   "outputs": [],
   "source": [
    "warehouse.visualize_warehouse('coi')"
   ]
  },
  {
   "cell_type": "code",
   "execution_count": null,
   "metadata": {},
   "outputs": [],
   "source": [
    "warehouse.visualize_warehouse('idc')"
   ]
  },
  {
   "cell_type": "code",
   "execution_count": null,
   "metadata": {},
   "outputs": [],
   "source": [
    "print(\"Статистика пробега return пробегов размещения модели для randoim\")\n",
    "stat = []\n",
    "order_stat = []\n",
    "close_to_drop_stat = []\n",
    "already_picked_items = list()\n",
    "for order_id in unique_orders:\n",
    "    order_items = df_sales_1[df_sales_1['OmsPostingId'] == order_id]\n",
    "    exemplars_in_order = list()\n",
    "    locations = list()\n",
    "\n",
    "    print(order_id)\n",
    "    for _, item in order_items.iterrows():\n",
    "        for i in range(item['Quantity']):\n",
    "            exmp = get_exemplars_order(product_list, item['RezonItemId'], already_picked_items, 'random')\n",
    "            already_picked_items.append((exmp.id, exmp.exemplar_id))\n",
    "            location = warehouse.find_product_location(exmp.id, exmp.exemplar_id)\n",
    "            if(location is None):\n",
    "                continue\n",
    "            locations.append((location, exmp))\n",
    "            exemplars_in_order.append(exmp)\n",
    "            close_to_drop_stat.append(abs(0 - location[0]) + abs(0 - location[1]))\n",
    "    if(len(locations) == 0):\n",
    "        continue\n",
    "    print(already_picked_items)\n",
    "    dist = warehouse.perform_order_pick(\"return\", locations, True)\n",
    "    stat.append(dist)\n",
    "    order_stat.append(len(locations))"
   ]
  },
  {
   "cell_type": "code",
   "execution_count": null,
   "metadata": {},
   "outputs": [],
   "source": [
    "unique_dates = df_sales_period['Date'].unique()\n",
    "\n",
    "print(\"Статистика пробега return пробегов за период 30 дней размещения модели для Random\")\n",
    "\n",
    "for date in unique_dates:\n",
    "    stat_period = []\n",
    "    order_stat_period = []\n",
    "    close_to_drop_stat_period = []\n",
    "    already_picked_items_period = list()\n",
    "    orders_for_date = df_sales_period[df_sales_period['Date'] == date]\n",
    "    unique_orders_for_date = orders_for_date['OmsPostingId'].unique()\n",
    "    for order_id in unique_orders_for_date:\n",
    "        order_items = orders_for_date[orders_for_date['OmsPostingId'] == order_id]\n",
    "        exemplars_in_order = list()\n",
    "        locations = list()\n",
    "\n",
    "        print(order_id)\n",
    "        for _, item in order_items.iterrows():\n",
    "            for i in range(item['Quantity']):\n",
    "                exmp = get_exemplars_order(product_list, item['RezonItemId'], already_picked_items, 'idc')\n",
    "                if(exmp is None):\n",
    "                    continue\n",
    "                already_picked_items_period.append((exmp.id, exmp.exemplar_id))\n",
    "                location = warehouse.find_product_location(exmp.id, exmp.exemplar_id)\n",
    "                if(location is None):\n",
    "                    continue\n",
    "                locations.append((location, exmp))\n",
    "                close_to_drop_stat_period.append(abs(0 - location[0]) + abs(0 - location[1]))\n",
    "                exemplars_in_order.append(exmp)\n",
    "        if(len(locations) == 0):\n",
    "            continue\n",
    "        print(already_picked_items)\n",
    "        dist = warehouse.perform_order_pick(\"return\", locations, True)\n",
    "        stat_period.append(dist)\n",
    "        order_stat_period.append(len(locations))\n",
    "    period_statistics[(date,'random return')] = {'mean' : np.mean(stat_period), \n",
    "                                                'median': np.median(sorted(stat_period)), \n",
    "                                                'sum': sum(stat_period), \n",
    "                                                'avg num of items': np.mean(order_stat_period), \n",
    "                                                'order_dist' : stat_period, \n",
    "                                                'mean dist to drop': np.mean(close_to_drop_stat_period), \n",
    "                                                'median dist to drop': np.median(close_to_drop_stat_period), \n",
    "                                                'dist to dtop': close_to_drop_stat_period}"
   ]
  },
  {
   "cell_type": "code",
   "execution_count": null,
   "metadata": {},
   "outputs": [],
   "source": [
    "np.mean(stat)"
   ]
  },
  {
   "cell_type": "code",
   "execution_count": null,
   "metadata": {},
   "outputs": [],
   "source": [
    "np.median(sorted(stat))"
   ]
  },
  {
   "cell_type": "code",
   "execution_count": null,
   "metadata": {},
   "outputs": [],
   "source": [
    "sum(stat)"
   ]
  },
  {
   "cell_type": "code",
   "execution_count": null,
   "metadata": {},
   "outputs": [],
   "source": [
    "statistics['Random return'] = {'mean' : np.mean(stat), 'median': np.median(sorted(stat)), 'sum': sum(stat), 'avg num of items': np.mean(order_stat), 'order_dist' : stat, 'mean dist to drop': np.mean(close_to_drop_stat), 'median dist to drop': np.median(close_to_drop_stat), 'dist to dtop': close_to_drop_stat}"
   ]
  },
  {
   "cell_type": "markdown",
   "metadata": {},
   "source": [
    "## Random s-shape"
   ]
  },
  {
   "cell_type": "code",
   "execution_count": null,
   "metadata": {},
   "outputs": [],
   "source": [
    "warehouse = create_warehouse()\n",
    "\n",
    "\n",
    "for product in product_list:\n",
    "    nearest_empty_cell = warehouse.place_product(product, 'random')\n",
    "\n",
    "warehouse.visualize_warehouse('occupancy')"
   ]
  },
  {
   "cell_type": "code",
   "execution_count": null,
   "metadata": {},
   "outputs": [],
   "source": [
    "warehouse.visualize_warehouse('coi')"
   ]
  },
  {
   "cell_type": "code",
   "execution_count": null,
   "metadata": {},
   "outputs": [],
   "source": [
    "warehouse.visualize_warehouse('coi')"
   ]
  },
  {
   "cell_type": "code",
   "execution_count": null,
   "metadata": {},
   "outputs": [],
   "source": [
    "warehouse.visualize_warehouse('idc')"
   ]
  },
  {
   "cell_type": "code",
   "execution_count": null,
   "metadata": {},
   "outputs": [],
   "source": [
    "print(\"Статистика пробега return пробегов размещения модели для random\")\n",
    "stat = []\n",
    "order_stat = []\n",
    "close_to_drop_stat = []\n",
    "already_picked_items = list()\n",
    "for order_id in unique_orders:\n",
    "    order_items = df_sales_1[df_sales_1['OmsPostingId'] == order_id]\n",
    "    exemplars_in_order = list()\n",
    "    locations = list()\n",
    "\n",
    "    print(order_id)\n",
    "    for _, item in order_items.iterrows():\n",
    "        for i in range(item['Quantity']):\n",
    "            exmp = get_exemplars_order(product_list, item['RezonItemId'], already_picked_items, 'random')\n",
    "            already_picked_items.append((exmp.id, exmp.exemplar_id))\n",
    "            location = warehouse.find_product_location(exmp.id, exmp.exemplar_id)\n",
    "            if(location is None):\n",
    "                continue\n",
    "            locations.append((location, exmp))\n",
    "            close_to_drop_stat.append(abs(0 - location[0]) + abs(0 - location[1]))\n",
    "            exemplars_in_order.append(exmp)\n",
    "    if(len(locations) == 0):\n",
    "        continue\n",
    "    print(already_picked_items)\n",
    "    dist = warehouse.perform_order_pick(\"s_shape\", locations, True)\n",
    "    stat.append(dist)\n",
    "    order_stat.append(len(locations))"
   ]
  },
  {
   "cell_type": "code",
   "execution_count": null,
   "metadata": {},
   "outputs": [],
   "source": [
    "unique_dates = df_sales_period['Date'].unique()\n",
    "\n",
    "print(\"Статистика пробега s_shape пробегов за период 30 дней размещения модели для Random\")\n",
    "\n",
    "for date in unique_dates:\n",
    "    stat_period = []\n",
    "    order_stat_period = []\n",
    "    close_to_drop_stat_period = []\n",
    "    already_picked_items_period = list()\n",
    "    orders_for_date = df_sales_period[df_sales_period['Date'] == date]\n",
    "    unique_orders_for_date = orders_for_date['OmsPostingId'].unique()\n",
    "    for order_id in unique_orders_for_date:\n",
    "        order_items = orders_for_date[orders_for_date['OmsPostingId'] == order_id]\n",
    "        exemplars_in_order = list()\n",
    "        locations = list()\n",
    "\n",
    "        print(order_id)\n",
    "        for _, item in order_items.iterrows():\n",
    "            for i in range(item['Quantity']):\n",
    "                exmp = get_exemplars_order(product_list, item['RezonItemId'], already_picked_items, 'idc')\n",
    "                if(exmp is None):\n",
    "                    continue        \n",
    "                already_picked_items_period.append((exmp.id, exmp.exemplar_id))\n",
    "                location = warehouse.find_product_location(exmp.id, exmp.exemplar_id)\n",
    "                if(location is None):\n",
    "                    continue\n",
    "                locations.append((location, exmp))\n",
    "                close_to_drop_stat_period.append(abs(0 - location[0]) + abs(0 - location[1]))\n",
    "                exemplars_in_order.append(exmp)\n",
    "        if(len(locations) == 0):\n",
    "            continue\n",
    "        print(already_picked_items)\n",
    "        dist = warehouse.perform_order_pick(\"s_shape\", locations, True)\n",
    "        stat_period.append(dist)\n",
    "        order_stat_period.append(len(locations))\n",
    "    period_statistics[(date,'random s_shape')] = {'mean' : np.mean(stat_period), \n",
    "                                                'median': np.median(sorted(stat_period)), \n",
    "                                                'sum': sum(stat_period), \n",
    "                                                'avg num of items': np.mean(order_stat_period), \n",
    "                                                'order_dist' : stat_period, \n",
    "                                                'mean dist to drop': np.mean(close_to_drop_stat_period), \n",
    "                                                'median dist to drop': np.median(close_to_drop_stat_period), \n",
    "                                                'dist to dtop': close_to_drop_stat_period}"
   ]
  },
  {
   "cell_type": "code",
   "execution_count": null,
   "metadata": {},
   "outputs": [],
   "source": [
    "unique_dates"
   ]
  },
  {
   "cell_type": "code",
   "execution_count": null,
   "metadata": {},
   "outputs": [],
   "source": [
    "np.mean(stat)"
   ]
  },
  {
   "cell_type": "code",
   "execution_count": null,
   "metadata": {},
   "outputs": [],
   "source": [
    "np.median(sorted(stat))"
   ]
  },
  {
   "cell_type": "code",
   "execution_count": null,
   "metadata": {},
   "outputs": [],
   "source": [
    "sum(stat)"
   ]
  },
  {
   "cell_type": "code",
   "execution_count": null,
   "metadata": {},
   "outputs": [],
   "source": [
    "statistics['random s-shape'] = {'mean' : np.mean(stat), 'median': np.median(sorted(stat)), 'sum': sum(stat), 'avg num of items': np.mean(order_stat), 'order_dist' : stat, 'mean dist to drop': np.mean(close_to_drop_stat), 'median dist to drop': np.median(close_to_drop_stat), 'dist to dtop': close_to_drop_stat}"
   ]
  },
  {
   "cell_type": "markdown",
   "metadata": {},
   "source": [
    "## Statistics"
   ]
  },
  {
   "cell_type": "code",
   "execution_count": null,
   "metadata": {},
   "outputs": [],
   "source": [
    "for metric, stats in statistics.items():\n",
    "\n",
    "    print(f\"Метрика: {metric}\")\n",
    "    print(\"Статистики:\")\n",
    "    for stat_name, value in stats.items():\n",
    "        if(metric == 'order_dist'):\n",
    "            continue\n",
    "        print(f\"{stat_name}: {value}\")\n",
    "    print()"
   ]
  },
  {
   "cell_type": "code",
   "execution_count": null,
   "metadata": {},
   "outputs": [],
   "source": [
    "s_shape_metrics = {key: value for key, value in statistics.items() if 's-shape' in key}\n",
    "\n",
    "# Построить графики для метрик s-shape\n",
    "plt.figure(figsize=(50, 9))\n",
    "for key, value in s_shape_metrics.items():\n",
    "    order_dist = value['order_dist']\n",
    "    num_items = len(order_dist)\n",
    "    indices = np.arange(1, num_items + 1)\n",
    "    plt.plot(indices, order_dist,  linestyle='-', linewidth = 4, label=key)\n",
    "\n",
    "plt.xlabel('Index')\n",
    "plt.ylabel('Order Distance')\n",
    "plt.title(' ')\n",
    "plt.legend()\n",
    "plt.grid(True)\n",
    "plt.show()"
   ]
  },
  {
   "cell_type": "code",
   "execution_count": null,
   "metadata": {},
   "outputs": [],
   "source": [
    "s_shape_metrics = {key: value for key, value in statistics.items() if 'return' in key}\n",
    "\n",
    "# Построить графики для метрик s-shape\n",
    "plt.figure(figsize=(50, 9))\n",
    "for key, value in s_shape_metrics.items():\n",
    "    order_dist = value['order_dist']\n",
    "    num_items = len(order_dist)\n",
    "    indices = np.arange(1, num_items + 1)\n",
    "    plt.plot(indices, order_dist,  linestyle='-', linewidth = 4, label=key)\n",
    "\n",
    "plt.xlabel('Index')\n",
    "plt.ylabel('Order Distance')\n",
    "plt.title('Количество пробегов для одного и того же заказа с эвристикой \"return\" в разрезе статистик')\n",
    "plt.legend()\n",
    "plt.grid(True)\n",
    "plt.show()"
   ]
  },
  {
   "cell_type": "code",
   "execution_count": null,
   "metadata": {},
   "outputs": [],
   "source": [
    "len(period_statistics)"
   ]
  },
  {
   "cell_type": "code",
   "execution_count": null,
   "metadata": {},
   "outputs": [],
   "source": [
    "# Перебор данных в period_statistics для каждой даты\n",
    "for (date, metric), stats_df in period_statistics.items():\n",
    "    print(f\"Дата: {date}\")\n",
    "    print(f\"Метрика: {metric}\")\n",
    "    print(\"Статистики:\")\n",
    "    # Перебор метрик для данной даты\n",
    "    for stat_name, value in stats_df.items():\n",
    "        if metric == 'order_dist':\n",
    "            continue\n",
    "        print(f\"{stat_name}: {value}\")\n",
    "\n"
   ]
  },
  {
   "cell_type": "code",
   "execution_count": null,
   "metadata": {},
   "outputs": [],
   "source": [
    "len(period_statistics)"
   ]
  },
  {
   "cell_type": "code",
   "execution_count": null,
   "metadata": {},
   "outputs": [],
   "source": [
    "# Создаем словарь для хранения средних значений для метрик, содержащих 's_shape' в названии\n",
    "mean_s_shape_metrics = {metric: [] for (date, metric) in period_statistics.keys() if 's_shape' in metric}\n",
    "unique_dates = set()\n",
    "\n",
    "# Перебираем данные в period_statistics\n",
    "for (date, metric), stats_df in period_statistics.items():\n",
    "    if 's_shape' in metric:\n",
    "        unique_dates.add(date)\n",
    "        mean_value = stats_df['mean']  # Предполагается, что 'mean' - это название столбца со средними значениями\n",
    "        mean_s_shape_metrics[metric].append(mean_value)\n",
    "\n",
    "dates = sorted(list(unique_dates))\n",
    "# Строим график для каждой метрики, содержащей 's_shape' в названии\n",
    "plt.figure(figsize=(10, 6))\n",
    "for metric, values in mean_s_shape_metrics.items():\n",
    "    if values:  # Проверяем, есть ли значения для данной метрики\n",
    "        plt.plot(dates, values, label=metric)\n",
    "\n",
    "plt.xlabel('Дата')\n",
    "plt.ylabel('Среднее значение')\n",
    "plt.title('Средние значения метрик с s_shape по датам')\n",
    "plt.xticks(rotation=45)  # Поворачиваем подписи по оси X для лучшей читаемости\n",
    "plt.legend()\n",
    "plt.grid(True)\n",
    "plt.tight_layout()\n",
    "plt.show()\n",
    "\n"
   ]
  }
 ],
 "metadata": {
  "kernelspec": {
   "display_name": "Python 3",
   "language": "python",
   "name": "python3"
  },
  "language_info": {
   "codemirror_mode": {
    "name": "ipython",
    "version": 3
   },
   "file_extension": ".py",
   "mimetype": "text/x-python",
   "name": "python",
   "nbconvert_exporter": "python",
   "pygments_lexer": "ipython3",
   "version": "3.11.9"
  }
 },
 "nbformat": 4,
 "nbformat_minor": 2
}
